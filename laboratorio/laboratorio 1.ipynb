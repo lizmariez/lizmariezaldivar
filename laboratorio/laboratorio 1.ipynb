{
 "cells": [
  {
   "cell_type": "code",
   "execution_count": 1,
   "id": "d86b2172",
   "metadata": {},
   "outputs": [
    {
     "name": "stdout",
     "output_type": "stream",
     "text": [
      "194.87171000000012\n"
     ]
    }
   ],
   "source": [
    "interes=100*(1+0.10)**7\n",
    "print(interes)"
   ]
  },
  {
   "cell_type": "code",
   "execution_count": 2,
   "id": "a73991ec",
   "metadata": {},
   "outputs": [
    {
     "name": "stdout",
     "output_type": "stream",
     "text": [
      "100\n"
     ]
    }
   ],
   "source": [
    "ahorro=100\n",
    "print(ahorro)"
   ]
  },
  {
   "cell_type": "code",
   "execution_count": 3,
   "id": "d0f00900",
   "metadata": {},
   "outputs": [
    {
     "name": "stdout",
     "output_type": "stream",
     "text": [
      "194.87171000000012\n"
     ]
    }
   ],
   "source": [
    "ahorro=100\n",
    "mult_anual=(1+0.10)\n",
    "result=ahorro*(mult_anual)**7\n",
    "print(result)"
   ]
  },
  {
   "cell_type": "code",
   "execution_count": 4,
   "id": "6cf46a1b",
   "metadata": {},
   "outputs": [
    {
     "name": "stdout",
     "output_type": "stream",
     "text": [
      "110.00000000000001\n",
      "<class 'float'>\n",
      "interes compuestointeres compuesto\n"
     ]
    }
   ],
   "source": [
    "ahorro=100\n",
    "mult=1.1\n",
    "desc=\"interes compuesto\"\n",
    "año1= ahorro*(mult)\n",
    "print(año1)\n",
    "print(type(año1))\n",
    "doubledesc=desc+desc\n",
    "print(doubledesc)"
   ]
  },
  {
   "cell_type": "code",
   "execution_count": 5,
   "id": "a992e88f",
   "metadata": {},
   "outputs": [
    {
     "name": "stdout",
     "output_type": "stream",
     "text": [
      "Empezamos con $100y ahora mismo tengo $194.87171000000012. Que bien!\n",
      "3.1415926\n"
     ]
    }
   ],
   "source": [
    "ahorros=100\n",
    "resultado=100*1.1**7\n",
    "print(\"Empezamos con $\"+ str(𝑎ℎ𝑜𝑟𝑟𝑜𝑠) + \"y ahora mismo tengo $\" + str(resultado) + \". Que bien!\")\n",
    "pi_string = \"3.1415926\"\n",
    "pi_float = float(pi_string)\n",
    "print(pi_float)"
   ]
  },
  {
   "cell_type": "code",
   "execution_count": 6,
   "id": "37f5917d",
   "metadata": {},
   "outputs": [
    {
     "name": "stdout",
     "output_type": "stream",
     "text": [
      "cadena de texto\n",
      "True\n"
     ]
    }
   ],
   "source": [
    "desc=str(\"cadena de texto\")\n",
    "print(desc)\n",
    "profit=bool(True)\n",
    "print(profit)"
   ]
  },
  {
   "cell_type": "code",
   "execution_count": null,
   "id": "1f240a97",
   "metadata": {},
   "outputs": [],
   "source": []
  }
 ],
 "metadata": {
  "kernelspec": {
   "display_name": "Python 3 (ipykernel)",
   "language": "python",
   "name": "python3"
  },
  "language_info": {
   "codemirror_mode": {
    "name": "ipython",
    "version": 3
   },
   "file_extension": ".py",
   "mimetype": "text/x-python",
   "name": "python",
   "nbconvert_exporter": "python",
   "pygments_lexer": "ipython3",
   "version": "3.9.12"
  }
 },
 "nbformat": 4,
 "nbformat_minor": 5
}
